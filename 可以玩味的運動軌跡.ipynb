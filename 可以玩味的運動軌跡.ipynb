{
  "nbformat": 4,
  "nbformat_minor": 0,
  "metadata": {
    "colab": {
      "provenance": [],
      "authorship_tag": "ABX9TyMwicH1micZhNUCjhc0zY/5",
      "include_colab_link": true
    },
    "kernelspec": {
      "name": "python3",
      "display_name": "Python 3"
    },
    "language_info": {
      "name": "python"
    }
  },
  "cells": [
    {
      "cell_type": "markdown",
      "metadata": {
        "id": "view-in-github",
        "colab_type": "text"
      },
      "source": [
        "<a href=\"https://colab.research.google.com/github/HanlunAI/ExhibitionDemonstration/blob/main/%E5%8F%AF%E4%BB%A5%E7%8E%A9%E5%91%B3%E7%9A%84%E9%81%8B%E5%8B%95%E8%BB%8C%E8%B7%A1.ipynb\" target=\"_parent\"><img src=\"https://colab.research.google.com/assets/colab-badge.svg\" alt=\"Open In Colab\"/></a>"
      ]
    },
    {
      "cell_type": "markdown",
      "source": [
        "**前言**： 運動器材也提供一些可以玩味的軌跡。我們先透過 Geogebra 互動體驗運動軌跡的變化，進而以 Colab 簡單體驗由變化衍生的數學：微積分。最後又以公理化思維重新審視一些運動定律。\n",
        "\n",
        "-- YK Tai, Harold Chao 2022"
      ],
      "metadata": {
        "id": "g6v-inM8r-TW"
      }
    },
    {
      "cell_type": "code",
      "execution_count": null,
      "metadata": {
        "id": "yuDBkrZNDWGz"
      },
      "outputs": [],
      "source": []
    }
  ]
}