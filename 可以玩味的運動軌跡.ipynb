{
  "nbformat": 4,
  "nbformat_minor": 0,
  "metadata": {
    "colab": {
      "provenance": [],
      "include_colab_link": true
    },
    "kernelspec": {
      "name": "python3",
      "display_name": "Python 3"
    },
    "language_info": {
      "name": "python"
    }
  },
  "cells": [
    {
      "cell_type": "markdown",
      "metadata": {
        "id": "view-in-github",
        "colab_type": "text"
      },
      "source": [
        "<a href=\"https://colab.research.google.com/github/HanlunAI/ExhibitionDemonstration/blob/main/%E5%8F%AF%E4%BB%A5%E7%8E%A9%E5%91%B3%E7%9A%84%E9%81%8B%E5%8B%95%E8%BB%8C%E8%B7%A1.ipynb\" target=\"_parent\"><img src=\"https://colab.research.google.com/assets/colab-badge.svg\" alt=\"Open In Colab\"/></a>"
      ]
    },
    {
      "cell_type": "markdown",
      "source": [
        "**前言**： 運動器材也提供一些可以玩味的軌跡。我們先透過 Geogebra 互動素材體驗運動軌跡的變化；然後，以 Colab 簡單體驗由變化衍生的數學：微積分；最後，又以公理化思維重新審視一些運動定律。\n",
        "\n",
        "-- YK Tai, Harold Chao 2022\n",
        "\n",
        "*![picture](https://drive.google.com/uc?id=1b0T32v8RCrVDu_K9X0-ygoHezfrecpEF)*\n",
        "\n",
        "在歷年的樂齡科技展，興倫推出一代又一代的太極推手機械人，以播放太極師父預先錄製的運動軌跡。這些現代化的運動器材可以引領我們思考一些有趣的軌跡問題。前幾代器材皆採用球座標系，將來會否使用其他系統（如圓柱座標系）亦未可知。然而三維軌跡頗為複雜，我們先讓同學在一般介面中熟習二維的情況，這裏有兩個有趣的假設性問題。\n",
        "\n",
        "[情景模擬(點擊打開):](https://www.geogebra.org/classic/b5k57yma)\n",
        "\n",
        "*![picture](https://drive.google.com/uc?id=1WilZ5OGRGJxw1pBL2hgytlkutEA3qLpC)*\n",
        "\n",
        "[情景模擬(點擊打開):](https://www.geogebra.org/calculator/pqdwmwak)\n",
        "\n",
        "*![picture](https://drive.google.com/uc?id=1LHS5b6JkY-92WojJkv05-R0v9ZPL9u6Y)*\n",
        "\n",
        "*![picture](https://drive.google.com/uc?id=1CrkoESYGcDtIg2M3sI-tS83LvgLEhSGi)*\n",
        "*![picture](https://drive.google.com/uc?id=1ncfAGwiMsIyMA9m96CO7FxJWxX7ZfNiQ)*"
      ],
      "metadata": {
        "id": "g6v-inM8r-TW"
      }
    },
    {
      "cell_type": "code",
      "execution_count": null,
      "metadata": {
        "id": "yuDBkrZNDWGz"
      },
      "outputs": [],
      "source": []
    }
  ]
}