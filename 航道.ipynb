{
  "nbformat": 4,
  "nbformat_minor": 0,
  "metadata": {
    "colab": {
      "provenance": [],
      "authorship_tag": "ABX9TyMESGtus6Shs14AZSR559a+",
      "include_colab_link": true
    },
    "kernelspec": {
      "name": "python3",
      "display_name": "Python 3"
    },
    "language_info": {
      "name": "python"
    }
  },
  "cells": [
    {
      "cell_type": "markdown",
      "metadata": {
        "id": "view-in-github",
        "colab_type": "text"
      },
      "source": [
        "<a href=\"https://colab.research.google.com/github/HanlunAI/ExhibitionDemonstration/blob/main/%E8%88%AA%E9%81%93.ipynb\" target=\"_parent\"><img src=\"https://colab.research.google.com/assets/colab-badge.svg\" alt=\"Open In Colab\"/></a>"
      ]
    },
    {
      "cell_type": "markdown",
      "source": [
        "地球上的航道也是可以玩味的軌跡，我們先以球面的對稱性處理變分法問題(Calculus of variations) 。同學可以透過 Geogebra 互動體驗航道的設計。力所能及的同學更可以使用 Colab 進行更多探索，進而引申至一些後續問題供將來思考。\n",
        "\n",
        "-- Harold Chao, YK Tai 2022"
      ],
      "metadata": {
        "id": "qjIMJbBBL4mg"
      }
    },
    {
      "cell_type": "markdown",
      "source": [
        "[互動素材](https://www.geogebra.org/classic/mesdgrmm)：以一理想球體作為地球的模型，每座城市為球面上的一點，一航班需要通航於兩座城市之間，問[如何尋得最短航道](https://www.geogebra.org/classic/mesdgrmm)？\n",
        "*![picture](https://drive.google.com/uc?id=1qX8fh24E-I6CMspzWusgcvEwWzcVSrHR)*"
      ],
      "metadata": {
        "id": "YoXBLUKUNUP9"
      }
    },
    {
      "cell_type": "code",
      "execution_count": null,
      "metadata": {
        "id": "f0R_onabFTh0"
      },
      "outputs": [],
      "source": []
    }
  ]
}